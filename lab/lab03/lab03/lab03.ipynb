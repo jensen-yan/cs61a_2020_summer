{
 "metadata": {
  "language_info": {
   "codemirror_mode": {
    "name": "ipython",
    "version": 3
   },
   "file_extension": ".py",
   "mimetype": "text/x-python",
   "name": "python",
   "nbconvert_exporter": "python",
   "pygments_lexer": "ipython3",
   "version": "3.7.3"
  },
  "orig_nbformat": 4,
  "kernelspec": {
   "name": "python3",
   "display_name": "Python 3.7.3 64-bit"
  },
  "interpreter": {
   "hash": "31f2aee4e71d21fbe5cf8b01ff0e069b9275f58929596ceb00d14d90e3e16cd6"
  }
 },
 "nbformat": 4,
 "nbformat_minor": 2,
 "cells": [
  {
   "cell_type": "code",
   "execution_count": 1,
   "metadata": {},
   "outputs": [
    {
     "output_type": "stream",
     "name": "stdout",
     "text": [
      "hello\n"
     ]
    }
   ],
   "source": [
    "print(\"hello\")"
   ]
  },
  {
   "cell_type": "code",
   "execution_count": 18,
   "metadata": {},
   "outputs": [],
   "source": [
    "def crust():\n",
    "    print(\"70km\")\n",
    "    def mantle():\n",
    "            print(\"2900km\")\n",
    "            def core():\n",
    "                print(\"5300km\")\n",
    "                return mantle()\n",
    "            return core\n",
    "    return mantle"
   ]
  },
  {
   "cell_type": "code",
   "execution_count": 19,
   "metadata": {},
   "outputs": [
    {
     "output_type": "stream",
     "name": "stdout",
     "text": [
      "<function crust at 0x7f30680a4048>\n"
     ]
    }
   ],
   "source": [
    "drill = crust   #drill 是函数指针\n",
    "print(drill)"
   ]
  },
  {
   "cell_type": "code",
   "execution_count": 20,
   "metadata": {},
   "outputs": [
    {
     "output_type": "stream",
     "name": "stdout",
     "text": [
      "70km\n<function crust.<locals>.mantle at 0x7f30688e8488>\n"
     ]
    }
   ],
   "source": [
    "drill = drill() # 调用dirll(), 打印70km, drill = mantle函数\n",
    "print(drill)"
   ]
  },
  {
   "cell_type": "code",
   "execution_count": 21,
   "metadata": {},
   "outputs": [
    {
     "output_type": "stream",
     "name": "stdout",
     "text": [
      "2900km\n<function crust.<locals>.mantle.<locals>.core at 0x7f30688e8d08>\n"
     ]
    }
   ],
   "source": [
    "drill = drill() # 调用mantle(), 打印2900km, drill = core函数\n",
    "print(drill)"
   ]
  },
  {
   "cell_type": "code",
   "execution_count": 22,
   "metadata": {},
   "outputs": [
    {
     "output_type": "stream",
     "name": "stdout",
     "text": [
      "5300km\n2900km\n<function crust.<locals>.mantle.<locals>.core at 0x7f30688e8ae8>\n"
     ]
    }
   ],
   "source": [
    "drill = drill() # 调用core(), 打印5300km, drill = mantle() 调用结果 = core函数, 打印2900km\n",
    "print(drill)"
   ]
  },
  {
   "cell_type": "code",
   "execution_count": 15,
   "metadata": {},
   "outputs": [
    {
     "output_type": "stream",
     "name": "stdout",
     "text": [
      "5300km\n2900km\n"
     ]
    }
   ],
   "source": [
    "drill() # 调用core(), 打印"
   ]
  },
  {
   "cell_type": "code",
   "execution_count": 16,
   "metadata": {},
   "outputs": [
    {
     "output_type": "stream",
     "name": "stdout",
     "text": [
      "5300km\n2900km\n"
     ]
    },
    {
     "output_type": "execute_result",
     "data": {
      "text/plain": [
       "<function __main__.crust.<locals>.mantle.<locals>.core>"
      ]
     },
     "metadata": {},
     "execution_count": 16
    }
   ],
   "source": [
    "drill()"
   ]
  },
  {
   "cell_type": "code",
   "execution_count": 24,
   "metadata": {},
   "outputs": [
    {
     "output_type": "stream",
     "name": "stdout",
     "text": [
      "True False\n"
     ]
    }
   ],
   "source": [
    "a = True\n",
    "b = not a\n",
    "print(a, b)"
   ]
  }
 ]
}