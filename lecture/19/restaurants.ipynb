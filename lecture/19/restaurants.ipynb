{
 "cells": [
  {
   "cell_type": "code",
   "execution_count": 7,
   "source": [
    "def search(query, ranking=lambda r: r.stars):\n",
    "    results = [r for r in Restaurant.all if query in r.name]\n",
    "    # 返回顺序排序(星级/价格/评论)\n",
    "    return sorted(results, key = ranking, reverse=True)\n",
    "\n",
    "def reviewed_both(r, s):\n",
    "    # return len([x for x in r.reverwers if x in s.reverwers])\n",
    "    return fast_overlap(r.reviewers, s.reviewers)\n",
    "     \n",
    "\n",
    "class Restaurant:\n",
    "    all = []\n",
    "    def __init__(self, name, stars, reviewers):\n",
    "        self.name, self.stars = name, stars\n",
    "        self.reviewers = reviewers\n",
    "        Restaurant.all.append(self)\n",
    "    \n",
    "    def similar(self, k, similarity=reviewed_both):\n",
    "        \"return the k most similar restaurants to self, using similarity for comparision\"\n",
    "        others = list(Restaurant.all)\n",
    "        others.remove(self)\n",
    "        return sorted(others, key= lambda r: -similarity(self, r))[:k]\n",
    "\n",
    "    \n",
    "    def __repr__(self):\n",
    "        return '<' + self.name + '>'\n",
    "\n",
    "# Restaurant('Thai Delight', 2)\n",
    "# Restaurant('Thai B', 3)\n",
    "# Restaurant('Thai C', 5)\n",
    "import json\n",
    "reviewers_for_restaurants = {}\n",
    "for line in open('reviews.json'):\n",
    "    r = json.load(line)\n",
    "    biz = r['businiss_id']\n",
    "    if biz not in reviewers_for_restaurants:\n",
    "        reviewers_for_restaurants[biz] = [r['user_id']]\n",
    "    else:\n",
    "        reviewers_for_restaurants[biz].append(r['user_id'])\n",
    "\n",
    "\n",
    "\n",
    "\n",
    "for line in open('restaurants.json'):\n",
    "    r = json.loads(line)\n",
    "    reviewers = reviewers_for_restaurants(r['business_id'])\n",
    "    Restaurant(r['name'], r['stars'], sorted(reviewers))\n",
    "\n",
    "while True:\n",
    "    print('>', end=' ')\n",
    "    results  = search(input().strip())\n",
    "    for r in results:\n",
    "        print(r, 'is similar to', 'r.similar(3)')"
   ],
   "outputs": [
    {
     "output_type": "error",
     "ename": "FileNotFoundError",
     "evalue": "[Errno 2] No such file or directory: 'reviews.json'",
     "traceback": [
      "\u001b[0;31m---------------------------------------------------------------------------\u001b[0m",
      "\u001b[0;31mFileNotFoundError\u001b[0m                         Traceback (most recent call last)",
      "\u001b[0;32m<ipython-input-7-0c24fc3cfa6f>\u001b[0m in \u001b[0;36m<module>\u001b[0;34m()\u001b[0m\n\u001b[1;32m     28\u001b[0m \u001b[0;32mimport\u001b[0m \u001b[0mjson\u001b[0m\u001b[0;34m\u001b[0m\u001b[0;34m\u001b[0m\u001b[0m\n\u001b[1;32m     29\u001b[0m \u001b[0mreviewers_for_restaurants\u001b[0m \u001b[0;34m=\u001b[0m \u001b[0;34m{\u001b[0m\u001b[0;34m}\u001b[0m\u001b[0;34m\u001b[0m\u001b[0;34m\u001b[0m\u001b[0m\n\u001b[0;32m---> 30\u001b[0;31m \u001b[0;32mfor\u001b[0m \u001b[0mline\u001b[0m \u001b[0;32min\u001b[0m \u001b[0mopen\u001b[0m\u001b[0;34m(\u001b[0m\u001b[0;34m'reviews.json'\u001b[0m\u001b[0;34m)\u001b[0m\u001b[0;34m:\u001b[0m\u001b[0;34m\u001b[0m\u001b[0;34m\u001b[0m\u001b[0m\n\u001b[0m\u001b[1;32m     31\u001b[0m     \u001b[0mr\u001b[0m \u001b[0;34m=\u001b[0m \u001b[0mjson\u001b[0m\u001b[0;34m.\u001b[0m\u001b[0mload\u001b[0m\u001b[0;34m(\u001b[0m\u001b[0mline\u001b[0m\u001b[0;34m)\u001b[0m\u001b[0;34m\u001b[0m\u001b[0;34m\u001b[0m\u001b[0m\n\u001b[1;32m     32\u001b[0m     \u001b[0mbiz\u001b[0m \u001b[0;34m=\u001b[0m \u001b[0mr\u001b[0m\u001b[0;34m[\u001b[0m\u001b[0;34m'businiss_id'\u001b[0m\u001b[0;34m]\u001b[0m\u001b[0;34m\u001b[0m\u001b[0;34m\u001b[0m\u001b[0m\n",
      "\u001b[0;31mFileNotFoundError\u001b[0m: [Errno 2] No such file or directory: 'reviews.json'"
     ]
    }
   ],
   "metadata": {}
  },
  {
   "cell_type": "code",
   "execution_count": null,
   "source": [
    "def fast_overlap(s,t):\n",
    "    i, j, count = 0, 0, 0\n",
    "    while i < len(s) and j < len(t):\n",
    "        if s[i] == t[j]:\n",
    "            count += 1\n",
    "            i, j = i+1, j+1\n",
    "        elif s[i] < t[j]:\n",
    "            i += 1\n",
    "        else:\n",
    "            j += 1\n",
    "    return count"
   ],
   "outputs": [],
   "metadata": {}
  }
 ],
 "metadata": {
  "orig_nbformat": 4,
  "language_info": {
   "name": "python",
   "version": "3.7.3",
   "mimetype": "text/x-python",
   "codemirror_mode": {
    "name": "ipython",
    "version": 3
   },
   "pygments_lexer": "ipython3",
   "nbconvert_exporter": "python",
   "file_extension": ".py"
  },
  "kernelspec": {
   "name": "python3",
   "display_name": "Python 3.7.3 64-bit"
  },
  "interpreter": {
   "hash": "916dbcbb3f70747c44a77c7bcd40155683ae19c65e1c03b4aa3499c5328201f1"
  }
 },
 "nbformat": 4,
 "nbformat_minor": 2
}